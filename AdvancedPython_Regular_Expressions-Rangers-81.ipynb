{
 "cells": [
  {
   "cell_type": "markdown",
   "metadata": {},
   "source": [
    "# Regular Expressions"
   ]
  },
  {
   "cell_type": "markdown",
   "metadata": {},
   "source": [
    "# Tasks today:\n",
    "1) <b>Importing</b> <br>\n",
    "2) <b>Using Regular Expressions</b> <br>\n",
    " &nbsp;&nbsp;&nbsp;&nbsp; a) re.compile() <br>\n",
    " &nbsp;&nbsp;&nbsp;&nbsp; b) re.match() <br>\n",
    " &nbsp;&nbsp;&nbsp;&nbsp; c) re.findall() <br>\n",
    " &nbsp;&nbsp;&nbsp;&nbsp; d) re.search() <br>\n",
    "3) <b>Sets</b> <br>\n",
    " &nbsp;&nbsp;&nbsp;&nbsp; a) Integer Ranges <br>\n",
    " &nbsp;&nbsp;&nbsp;&nbsp; b) Character Ranges <br>\n",
    "4) <b>Counting Occurences</b> <br>\n",
    " &nbsp;&nbsp;&nbsp;&nbsp; a) {x} <br>\n",
    " &nbsp;&nbsp;&nbsp;&nbsp; b) {, x} <br>\n",
    " &nbsp;&nbsp;&nbsp;&nbsp; c) {?} <br>\n",
    " &nbsp;&nbsp;&nbsp;&nbsp; d) {*} <br>\n",
    " &nbsp;&nbsp;&nbsp;&nbsp; e) {+} <br>\n",
    "5) <b>In-Class Exercise #1</b> <br>\n",
    "6) <b>Escaping Characters</b> <br>\n",
    "7) <b>Grouping</b> <br>\n",
    "8) <b>In-Class Exercise #2</b> <br>\n",
    "9) <b>Opening a File</b> <br>\n",
    " &nbsp;&nbsp;&nbsp;&nbsp; a) open() <br>\n",
    " &nbsp;&nbsp;&nbsp;&nbsp; b) with open() <br>\n",
    " &nbsp;&nbsp;&nbsp;&nbsp; c) re.match() <br>\n",
    " &nbsp;&nbsp;&nbsp;&nbsp; d) re.search() <br>\n",
    " &nbsp;&nbsp;&nbsp;&nbsp; e) Store the String in a Variable <br>\n",
    "10) <b>Regex Project</b> <br>"
   ]
  },
  {
   "cell_type": "markdown",
   "metadata": {},
   "source": [
    "### Importing <br>\n",
    "<p>Regular Expressions are universal throughout most programming languages... They are generally imported through the module 're'.</p>"
   ]
  },
  {
   "cell_type": "code",
   "execution_count": 1,
   "metadata": {},
   "outputs": [],
   "source": [
    "# import re\n",
    "import re"
   ]
  },
  {
   "cell_type": "markdown",
   "metadata": {},
   "source": [
    "### Using Regular Expressions <br>\n",
    "<p>Regular expressions give us the ability to search for patterns within text, strings, files, etc. They serve several uses, such as; security measures, searching, filtering, pattern recognition, and more...</p>"
   ]
  },
  {
   "cell_type": "markdown",
   "metadata": {},
   "source": [
    "##### re.compile()"
   ]
  },
  {
   "cell_type": "code",
   "execution_count": null,
   "metadata": {},
   "outputs": [],
   "source": [
    "# using compile, pre determines the string to be used in regular expression methods\n",
    "\n",
    "pattern = re.compile('abcd')\n",
    "print(pattern)"
   ]
  },
  {
   "cell_type": "markdown",
   "metadata": {},
   "source": [
    "##### re.match()"
   ]
  },
  {
   "cell_type": "code",
   "execution_count": null,
   "metadata": {},
   "outputs": [],
   "source": [
    "my_match = pattern.match('abcd123abcd')\n",
    "print(my_match)\n",
    "\n",
    "#Has to be the very first pattern in the list, nothing can preceed it\n",
    "# Accessing the span of the match\n",
    "#in the span, the second number is not included in the index (up to but not including that number and index)\n",
    "print(my_match.span())\n",
    "#bring back range of tuples of matching pattern\n",
    "#brings back the first match\n",
    "#in this case it is only bringing back the first set of 'abcd' because it was the first to fulfill that pattern\n",
    "#if pattern exists deeper in string, match will return None"
   ]
  },
  {
   "cell_type": "markdown",
   "metadata": {},
   "source": [
    "##### re.findall()"
   ]
  },
  {
   "cell_type": "code",
   "execution_count": null,
   "metadata": {},
   "outputs": [],
   "source": [
    "pattern = re.compile('abcd')\n",
    "#Bring back a list of matched patterns\n",
    "finders = pattern.findall('123abcd abcd123 abcd abcabc acb')\n",
    "print(finders)\n",
    "help(re.findall)"
   ]
  },
  {
   "cell_type": "markdown",
   "metadata": {},
   "source": [
    "##### re.search()"
   ]
  },
  {
   "cell_type": "code",
   "execution_count": null,
   "metadata": {},
   "outputs": [],
   "source": [
    "pattern = re.compile('abcd')\n",
    "#search will return a match object\n",
    "random_string = \"123 123 234 abcd abc abcd abcd\"\n",
    "\n",
    "my_search = pattern.search(random_string)\n",
    "print(my_search)\n",
    "span = my_search.span()\n",
    "print(span)\n",
    "\n",
    "print(span, type(span))\n",
    "print(random_string[span[0] : span[1]], \"with span index\")\n",
    "print(random_string[12:16], \"index from tuple\")\n",
    "\n",
    "help(re.search)"
   ]
  },
  {
   "cell_type": "code",
   "execution_count": null,
   "metadata": {},
   "outputs": [],
   "source": [
    "pattern = re.compile('abcd')\n",
    "random_string = \"123 123 234 abcd abc\"\n",
    "\n",
    "my_match2 = pattern.match(random_string)\n",
    "print(my_match2)\n",
    "#Prints None because the pattern exsists deeper in the string than what match looks for\n",
    "help(re.search)"
   ]
  },
  {
   "cell_type": "code",
   "execution_count": null,
   "metadata": {},
   "outputs": [],
   "source": [
    "What is the difference between re.match(), re.search(),\n",
    "and re.findall()? What situations might you find use for one over the other?\n",
    "\n",
    "re.match = only will return the first match, nothing can precced the patterned string and \n",
    "will return location as a tuple\n",
    "re.search = only will return the first match and its location as a tuple, will scan the list until it finds \n",
    "its first match\n",
    "re.findall = will search the whole list for matches and will list all the times that it found the match,\n",
    "it will not return the location of those matches, just how many it found"
   ]
  },
  {
   "cell_type": "markdown",
   "metadata": {},
   "source": [
    "### Sets <br>\n",
    "<p>The following cells will allow you to use regular expressions to search for certain values within a range such as numbers 1 through 4.</p>"
   ]
  },
  {
   "cell_type": "markdown",
   "metadata": {},
   "source": [
    "##### [a-z] or [A-Z] - any lowercase/uppercase letters from a to z<br/>[^2] - anything that's not 2"
   ]
  },
  {
   "cell_type": "markdown",
   "metadata": {},
   "source": [
    "##### Integer Ranges"
   ]
  },
  {
   "cell_type": "code",
   "execution_count": null,
   "metadata": {},
   "outputs": [],
   "source": [
    "pattern_int = re.compile('[0-7][7-9][0-3]')\n",
    "#we are looking for a string of numbers that the first number is a number from 0-7, the second number is a \n",
    "#number from 7-9 and the third number is a number from 0-3\n",
    "random_nums = pattern_int.search(\"67283\")\n",
    "\n",
    "span = random_nums.span()\n",
    "print(span) #Span is giving us the range at which the patterned number begins and ends\n",
    "print(random_nums[span[0]]) #Now the number is patterned number is the first integer (0)"
   ]
  },
  {
   "cell_type": "markdown",
   "metadata": {},
   "source": [
    "##### Character Ranges"
   ]
  },
  {
   "cell_type": "code",
   "execution_count": null,
   "metadata": {},
   "outputs": [],
   "source": [
    "char_pattern = re.compile('[A-Z][a-z]') #searching for any time that a capital letter is immeditely followed\n",
    "#by a lower case letter\n",
    "\n",
    "found = char_pattern.findall(\"Gotta Catch Em All\")\n",
    "print(found)"
   ]
  },
  {
   "cell_type": "code",
   "execution_count": null,
   "metadata": {},
   "outputs": [],
   "source": [
    "char_pattern2 = re.compile('[A-Z][0-9][a-z][A-Z]')\n",
    "\n",
    "find_robot_name = char_pattern2.findall(\"Hello, I am a robot. My name is B7lR\")\n",
    "print(find_robot_name)"
   ]
  },
  {
   "cell_type": "markdown",
   "metadata": {},
   "source": [
    "### Counting Occurences"
   ]
  },
  {
   "cell_type": "markdown",
   "metadata": {},
   "source": [
    "##### {x} - something that occurs {num_of_times}"
   ]
  },
  {
   "cell_type": "code",
   "execution_count": null,
   "metadata": {},
   "outputs": [],
   "source": [
    "char_pattern_count = re.compile('[A-Z][a-z]{3}') #Looking for a capital letter followed by 3 lowercase letters\n",
    "\n",
    "found_count = char_pattern_count.findall(\"Ryan is my Name, Smash is my Game. Wow, your're so Lame\")\n",
    "print(found_count)\n",
    "\n",
    "char2 = re.compile('[A-Z]{3}[a-z]{2}')\n",
    "found_count2 = char2.findall(\"ABCab aABCde abcABCab\")\n",
    "print(found_count2)"
   ]
  },
  {
   "cell_type": "markdown",
   "metadata": {},
   "source": [
    "##### {x, x} - something that occurs between x and x times"
   ]
  },
  {
   "cell_type": "code",
   "execution_count": null,
   "metadata": {},
   "outputs": [],
   "source": [
    "random_pattern = re.compile('m{1,5}') #range always uses a comma inbetween the range numbers\n",
    "found_ms = random_pattern.findall(\"This is an example of a regular expression trying to find one m, more than one mm, maybe 3 mmms or five mmmmms\")\n",
    "print(found_ms)\n",
    "\n",
    "random_pattern2 = re.compile(\"3{3,10}\") #Looking for the number 3 as it occurs 1-10 times or 3-10 times repeating\n",
    "found_3s = random_pattern2.findall(\"Our chances of survival are 32.3333333333% or 32.3%, repeating of course\")\n",
    "print(found_3s)"
   ]
  },
  {
   "cell_type": "markdown",
   "metadata": {},
   "source": [
    "##### ? - something that occurs 0 or 1 time"
   ]
  },
  {
   "cell_type": "code",
   "execution_count": null,
   "metadata": {},
   "outputs": [],
   "source": [
    "#Optional, it can be here or not, thats fine\n",
    "pattern = re.compile('boo?p') #This second o might be there and might not, still return it\n",
    "#The second o is an optional o, the second o is also represented by the question mark\n",
    "#Lazy quantifier\n",
    "\n",
    "found_pat = pattern.findall(\"I am C3PO, human cyborg relations. This is my counter-part R2D2 .... beep boop bop boop\")\n",
    "print(found_pat)\n",
    "\n",
    "pattern2 = re.compile(\"22?3\")\n",
    "\n",
    "found_pat2 = pattern2.findall(\"Here are some numbers: 23 223 2223 22 23 32 32 3223 2331423\")\n",
    "print(found_pat2)"
   ]
  },
  {
   "cell_type": "markdown",
   "metadata": {},
   "source": [
    "##### * - something that occurs at least 0 times"
   ]
  },
  {
   "cell_type": "code",
   "execution_count": null,
   "metadata": {},
   "outputs": [],
   "source": [
    "#Lazy vs greedy quantifier\n",
    "\n",
    "pattern = re.compile(\"bo*p\") #Any instance that a b and p exsist, the o between is optional\n",
    "found_o = pattern.findall(\"I am C3PO, human cyborg relations. This is my counter-part R2D2 .... beep bp boop bop boop booooooooop boooooop\")\n",
    "print(found_o)"
   ]
  },
  {
   "cell_type": "markdown",
   "metadata": {},
   "source": [
    "##### + - something that occurs at least once"
   ]
  },
  {
   "cell_type": "code",
   "execution_count": null,
   "metadata": {},
   "outputs": [],
   "source": [
    "pattern_o = re.compile(\"bo+p\") #Here the o has to occur at least once to be filtered out but also the o can occur any number of times after the inital 1\n",
    "\n",
    "found_o = pattern_o.findall('I am C3PO, human cyborg relations. This is my counter-part R2D2 .... beep bp boop bop boooooooop booooop bp booooooooop boop')\n",
    "print(found_o)"
   ]
  },
  {
   "cell_type": "markdown",
   "metadata": {},
   "source": [
    "##### In-class exercise 1: \n",
    "\n",
    "Use a regular expression to find every number in the given string"
   ]
  },
  {
   "cell_type": "code",
   "execution_count": null,
   "metadata": {},
   "outputs": [],
   "source": [
    "# my_string = \"This string has 10909090 numbers, but it is only 1 string. I hope you solve this 2day.\"\n",
    "# Output: ['10909090','1',2]\n",
    "\n",
    "pattern = re.compile('[0-9]+')\n",
    "found_numbers = pattern.findall(\"This string has 10909090 numbers, but it is only 1 string. I hope you solve this 2day.\")\n",
    "print(found_numbers)"
   ]
  },
  {
   "cell_type": "code",
   "execution_count": null,
   "metadata": {},
   "outputs": [],
   "source": [
    "#Another way to do the above example\n",
    "\n",
    "pattern = re.compile('[0-9]*[0-9]')\n",
    "found_numbers2 = pattern.findall(\"This string has 10909090 numbers, but it is only 1 string. I hope you solve this 2day.\")\n",
    "print(found_numbers2)"
   ]
  },
  {
   "cell_type": "markdown",
   "metadata": {},
   "source": [
    "### Escaping Characters"
   ]
  },
  {
   "cell_type": "markdown",
   "metadata": {},
   "source": [
    "##### \\w - look for any Unicode character<br/>\\W - look for anything that isnt a Unicode character\n",
    "\n",
    "[History on Unicode](http://unicode.org/standard/WhatIsUnicode.html)\n",
    "\n",
    "[More on Unicode Characters](https://en.wikipedia.org/wiki/List_of_Unicode_characters)"
   ]
  },
  {
   "cell_type": "code",
   "execution_count": null,
   "metadata": {},
   "outputs": [],
   "source": [
    "#word characters \n",
    "pattern_1 = re.compile('[\\w]+')\n",
    "\n",
    "#non-word characters \n",
    "pattern_2 = re.compile('[\\W]')\n",
    "\n",
    "found_1 = pattern_1.findall(\"This is a sentence. With an exclamation point at the end!\")\n",
    "print(found_1)\n",
    "\n",
    "found_2= pattern_2.findall(\"This is a sentence. With an exclamation point at teh end!\")\n",
    "print(found_2)"
   ]
  },
  {
   "cell_type": "markdown",
   "metadata": {},
   "source": [
    "##### \\d - look for any digit 0-9<br/>\\D - look for anything that isnt a digit"
   ]
  },
  {
   "cell_type": "code",
   "execution_count": null,
   "metadata": {},
   "outputs": [],
   "source": [
    "pattern_nums = re.compile('[\\d]{1,2}[a-z]{2,4}')\n",
    "\n",
    "found_date = pattern_nums.findall(\"Today is the 7th, in 20days it will be the 27th. 3rd, 1st, 30th\")\n",
    "print(found_date)\n",
    "\n",
    "pattern_nums2 = re.compile('[\\D]+')\n",
    "found_date2 = pattern_nums2.findall(\"Today is the 7th, in 20days it will be the 27th. 3rd, 1st, 30th\")\n",
    "print(found_date2)"
   ]
  },
  {
   "cell_type": "markdown",
   "metadata": {},
   "source": [
    "##### \\s - look for any white space<br/>\\S - look for anything that isnt whitespace"
   ]
  },
  {
   "cell_type": "code",
   "execution_count": null,
   "metadata": {},
   "outputs": [],
   "source": [
    "pattern_nospace = re.compile(\"[\\S]+\")\n",
    "pattern_space = re.compile('[\\s]+')\n",
    "\n",
    "found_space = pattern_space.findall(\"Are you afraid of the dark?\")\n",
    "print(found_space) #Looking for whitespace\n",
    "\n",
    "found_dark = pattern_nospace.findall(\"Are you afraid of the dark?\")\n",
    "print(found_dark) #Looking for anything that is not whitespace"
   ]
  },
  {
   "cell_type": "markdown",
   "metadata": {},
   "source": [
    "##### \\b - look for boundaries or edges of a word<br/>\\B - look for anything that isnt a boundary"
   ]
  },
  {
   "cell_type": "code",
   "execution_count": null,
   "metadata": {},
   "outputs": [],
   "source": [
    "pattern_bound = re.compile(r'\\bTheCodingTemple\\b') #r gives use a raw string\n",
    "no_bound = re.compile(r'\\BTheCodingTemple\\B')\n",
    "\n",
    "no_found = no_bound.findall(\"TheCodingTemple\")\n",
    "print(no_found) #Has no boundaries (because the word we are looking for is both the beginning and the end)\n",
    "\n",
    "found_bound = pattern_bound.findall(\"TheCodingTemple\")\n",
    "print(found_bound) #in this example the word we are looking for is both the beginning and ending boundry"
   ]
  },
  {
   "cell_type": "markdown",
   "metadata": {},
   "source": [
    "### Grouping"
   ]
  },
  {
   "cell_type": "code",
   "execution_count": null,
   "metadata": {},
   "outputs": [],
   "source": [
    "my_string = \"Max Smith, aaron rodgers, Sam Darnold, LeBron James, Michael Jordan, Kevin Durant, Patrick McCormick\"\n",
    "\n",
    "#Groups of names RegEx compiler\n",
    "\n",
    "pattern_names = re.compile('([A-Z][A-Za-z]+) ([A-Z][A-Za-z]+)')\n",
    "\n",
    "found_names = pattern_names.findall(my_string)\n",
    "print(found_names)\n",
    "\n",
    "for name in my_string.split(','):\n",
    "    match = pattern_names.search(name)\n",
    "    if match:\n",
    "        print(match.group())\n",
    "    else:\n",
    "        print(\"Not a match\")"
   ]
  },
  {
   "cell_type": "markdown",
   "metadata": {},
   "source": [
    "# In-class Exercise 2:\n",
    "\n",
    "Write a function using regular expressions to find the domain name in the given email addresses (and return None for the invalid email addresses)<br><b>HINT: Use '|' for either or</b>"
   ]
  },
  {
   "cell_type": "code",
   "execution_count": null,
   "metadata": {},
   "outputs": [],
   "source": [
    "my_emails = [\"jordanw@codingtemple.orgcom\", \"pocohontas1776@gmail.com\", \"helloworld@aol..com\",\n",
    "             \"yourfavoriteband@g6.org\", \"@codingtemple.com\"]\n",
    "\n",
    "# You can also use the $ at the end of your compile expression -- this stops the search\n",
    "\n",
    "#.com OR .org => com|org\n",
    "\n",
    "#Expected output:\n",
    "#None\n",
    "#pocohontas1776@gmail.com\n",
    "#None\n",
    "#yourfavoriteband@g6.org\n",
    "#None\n",
    "\n",
    "# def validateEmail(email):\n",
    "#     pattern = re.compile('([A-Za-z0-9]+)@([a-z0-9]+)(.com|.org)$')\n",
    "#     if pattern.match(email):\n",
    "#         return email\n",
    "#     else:\n",
    "#         return \"Not a valid email\"\n",
    "    \n",
    "# for email in my_emails:\n",
    "#     print(validateEmail(email))\n",
    "\n",
    "pattern_emails = re.compile('([A-Za-z0-9]+)@([a-z0-9]+)([.com|.org]$)')\n",
    "\n",
    "found_emails = pattern_emails.findall(my_emails)\n",
    "print(found_emails)\n",
    "\n",
    "for email in my_emails.split('@'):\n",
    "    match = pattern_emails.match(email)\n",
    "    if match:\n",
    "        print(match.group())\n",
    "    else:\n",
    "        print(\"None\")"
   ]
  },
  {
   "cell_type": "markdown",
   "metadata": {},
   "source": [
    "### Opening a File <br>\n",
    "<p>Python gives us a couple ways to import files, below are the two used most often.</p>"
   ]
  },
  {
   "cell_type": "markdown",
   "metadata": {},
   "source": [
    "##### open()"
   ]
  },
  {
   "cell_type": "code",
   "execution_count": null,
   "metadata": {},
   "outputs": [],
   "source": [
    "f = open(\"names.txt\")\n",
    "data = f.read()\n",
    "print(data)\n",
    "f.close()"
   ]
  },
  {
   "cell_type": "markdown",
   "metadata": {},
   "source": [
    "##### with open()"
   ]
  },
  {
   "cell_type": "code",
   "execution_count": null,
   "metadata": {},
   "outputs": [],
   "source": [
    "with open('names.txt') as f:\n",
    "    data = f.read()\n",
    "    print(data)"
   ]
  },
  {
   "cell_type": "markdown",
   "metadata": {},
   "source": [
    "##### re.match()"
   ]
  },
  {
   "cell_type": "code",
   "execution_count": null,
   "metadata": {
    "scrolled": true
   },
   "outputs": [],
   "source": [
    "print(re.match(r\"Hawkins, Derek\", data))"
   ]
  },
  {
   "cell_type": "code",
   "execution_count": null,
   "metadata": {},
   "outputs": [],
   "source": [
    "print(re.match(r\"Vader, Darth\", data))"
   ]
  },
  {
   "cell_type": "markdown",
   "metadata": {},
   "source": [
    "##### re.search()"
   ]
  },
  {
   "cell_type": "code",
   "execution_count": null,
   "metadata": {},
   "outputs": [],
   "source": [
    "print(re.search(r\"Vader, Darth\", data))"
   ]
  },
  {
   "cell_type": "markdown",
   "metadata": {},
   "source": [
    "##### Store the String to a Variable"
   ]
  },
  {
   "cell_type": "code",
   "execution_count": null,
   "metadata": {},
   "outputs": [],
   "source": [
    "answer = input(\"What would you like to search for?...\")\n",
    "\n",
    "found = re.findall(answer, data)\n",
    "\n",
    "if found:\n",
    "    print(f\"I found your data: {found}\")\n",
    "else:\n",
    "    print(\"It is not here!\")"
   ]
  },
  {
   "cell_type": "markdown",
   "metadata": {},
   "source": [
    "### In-Class Exercise #3 <br>\n",
    "<p>Print each persons name and twitter handle, using groups, should look like:</p>\n",
    "<p>==============<br>\n",
    "   Full Name / Twitter<br>\n",
    "   ==============</p>\n",
    "Derek Hawkins / @derekhawkins\n",
    "\n",
    " Erik Sven-Osterberg / @sverik\n",
    "\n",
    " Ryan Butz / @ryanbutz\n",
    "\n",
    " Example Exampleson / @example\n",
    "\n",
    " Ripal Pael / @ripalp\n",
    "\n",
    " Darth Vader / @darthvader"
   ]
  },
  {
   "cell_type": "code",
   "execution_count": null,
   "metadata": {
    "scrolled": true
   },
   "outputs": [],
   "source": [
    "with open('names.txt') as f:\n",
    "    data = f.readlines()\n",
    "    print(data[0])\n",
    "    \n",
    "pattern = re.compile('(\\w+), ([A-Za-z]+-)*([A-Za-z]+).*\\s(@[a-z]+$)')\n",
    "print('      =================')\n",
    "print('      Full Name/Twitter')\n",
    "print('      =================')\n",
    "\n",
    "for person in data:\n",
    "    match = pattern.search(person)\n",
    "    if match:\n",
    "        if match.group(2):\n",
    "            print(\"\\n\", f\"{match.group(2)}{match.group(3)} {match.group(1)} / {match.group(4)}\")\n",
    "        else:\n",
    "            print(\"\\n\", f\"{match.group(3)} {match.group(1)} / {match.group(4)}\")"
   ]
  },
  {
   "cell_type": "markdown",
   "metadata": {},
   "source": [
    "### Regex project\n",
    "\n",
    "Use python to read the file regex_test.txt and print the last name on each line using regular expressions and groups (return None for names with no first and last name, or names that aren't properly capitalized)\n",
    "##### Hint: use with open() and readlines()"
   ]
  },
  {
   "cell_type": "code",
   "execution_count": null,
   "metadata": {},
   "outputs": [],
   "source": [
    "\"\"\"\n",
    "Expected Output\n",
    "Abraham Lincoln\n",
    "Andrew P Garfield\n",
    "Connor Milliken\n",
    "Jordan Alexander Williams\n",
    "None\n",
    "None\n",
    "\"\"\""
   ]
  },
  {
   "cell_type": "code",
   "execution_count": 5,
   "metadata": {},
   "outputs": [
    {
     "name": "stdout",
     "output_type": "stream",
     "text": [
      "===\n",
      "None\n",
      "Andrew P Garfield\n",
      "None\n",
      "Jordan Alexander Williams\n",
      "None\n",
      "None\n",
      "===\n"
     ]
    }
   ],
   "source": [
    "with open('homework.txt') as f:\n",
    "    data = f.readlines()\n",
    "    \n",
    "pattern = re.compile('([A-Z][a-z]+)\\s([A-Z][a-z]*)\\s?([A-Z][a-z]*)')\n",
    "print(\"===\")\n",
    "for person in data:\n",
    "    match = pattern.search(person)\n",
    "    if match:\n",
    "        if match.group(2):\n",
    "            print(f\"{match.group(1)} {match.group(2)} {match.group(3)}\")\n",
    "        else:\n",
    "            print(f\"{match.group(1)} {match.group(3)}\")\n",
    "    else:\n",
    "        print(\"None\")\n",
    "print(\"===\")"
   ]
  },
  {
   "cell_type": "code",
   "execution_count": null,
   "metadata": {},
   "outputs": [],
   "source": []
  }
 ],
 "metadata": {
  "kernelspec": {
   "display_name": "Python 3 (ipykernel)",
   "language": "python",
   "name": "python3"
  },
  "language_info": {
   "codemirror_mode": {
    "name": "ipython",
    "version": 3
   },
   "file_extension": ".py",
   "mimetype": "text/x-python",
   "name": "python",
   "nbconvert_exporter": "python",
   "pygments_lexer": "ipython3",
   "version": "3.9.12"
  }
 },
 "nbformat": 4,
 "nbformat_minor": 2
}
